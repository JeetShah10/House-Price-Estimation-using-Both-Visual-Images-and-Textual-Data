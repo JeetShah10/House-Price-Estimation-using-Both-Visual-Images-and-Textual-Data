{
  "nbformat": 4,
  "nbformat_minor": 0,
  "metadata": {
    "kernelspec": {
      "display_name": "Python 3",
      "language": "python",
      "name": "python3"
    },
    "language_info": {
      "codemirror_mode": {
        "name": "ipython",
        "version": 3
      },
      "file_extension": ".py",
      "mimetype": "text/x-python",
      "name": "python",
      "nbconvert_exporter": "python",
      "pygments_lexer": "ipython3",
      "version": "3.7.3"
    },
    "colab": {
      "name": "CSC215 Project 3 House Price Prediction Cheatsheet.ipynb",
      "provenance": [],
      "collapsed_sections": []
    }
  },
  "cells": [
    {
      "cell_type": "markdown",
      "metadata": {
        "id": "BbpXx0a5nKBJ",
        "colab_type": "text"
      },
      "source": [
        "## Mini-Project 3:  HOUSE PRICE PREDICTION USING TEXT AND IMAGES \n",
        "\n",
        "### CSC 215-01 Artificial Intelligence (Fall 2019)\n",
        "\n",
        "### Team member : \n",
        "    1) Ayushi Vadwala\n",
        "    2) Jeet Shah\n",
        "\n",
        "### Problem Formulation :   \n",
        "    The goal of this project is to build a novel automatic house price estimation system by using both textual and visual inputs, other than only using textual information such as area, neighborhood, and number of bedrooms.\n",
        "            \n",
        "### Models used to predict House Price : \n",
        "- Combination of Fully-Connected deep Neural Networks and CNN.\n",
        "\n",
        "\n"
      ]
    },
    {
      "cell_type": "markdown",
      "metadata": {
        "id": "GGEXc0KFnKBL",
        "colab_type": "text"
      },
      "source": [
        "## import libraries"
      ]
    },
    {
      "cell_type": "code",
      "metadata": {
        "id": "jrcDkRCRnKBM",
        "colab_type": "code",
        "outputId": "9f6363aa-b866-4eb4-d76c-09c681dba569",
        "colab": {
          "base_uri": "https://localhost:8080/",
          "height": 139
        }
      },
      "source": [
        "import seaborn as sns\n",
        "import os\n",
        "import pandas as pd\n",
        "import matplotlib.pyplot as plt\n",
        "from sklearn import metrics\n",
        "import csv\n",
        "import numpy as np\n",
        "from sklearn.model_selection import train_test_split\n",
        "from sklearn import datasets,linear_model, preprocessing,utils\n",
        "from sklearn.metrics import mean_squared_error,r2_score\n",
        "%matplotlib inline\n",
        "from sklearn.preprocessing import MinMaxScaler\n",
        "from matplotlib.pyplot import figure, show\n",
        "from keras.layers import Conv1D, Conv2D, MaxPooling2D \n",
        "import keras\n",
        "from keras.callbacks import ModelCheckpoint\n",
        "from keras.callbacks import EarlyStopping\n",
        "from keras.models import Sequential\n",
        "from keras.layers.core import Dense, Activation, Flatten ,Dropout\n",
        "import cv2\n",
        "from keras.preprocessing import sequence\n",
        "from keras.models import Sequential\n",
        "from keras.layers import Dense, Embedding\n",
        "from keras.callbacks import EarlyStopping\n",
        "from keras import optimizers\n",
        "from keras.optimizers import Adam\n",
        "from sklearn.preprocessing import LabelBinarizer\n",
        "import glob\n",
        "from keras.layers import concatenate\n",
        "from keras.models import Model\n",
        "from keras.utils import plot_model\n",
        "from keras.models import Model\n",
        "from keras.layers import Input\n",
        "from keras.layers import Dense\n",
        "from keras.layers import Flatten\n",
        "from keras.layers.convolutional import Conv2D\n",
        "from keras.layers.pooling import MaxPooling2D\n",
        "from keras.layers.merge import concatenate\n",
        "from IPython.display import Image\n",
        "from google.colab import drive \n",
        "drive.mount('/content/gdrive')"
      ],
      "execution_count": 0,
      "outputs": [
        {
          "output_type": "stream",
          "text": [
            "Using TensorFlow backend.\n"
          ],
          "name": "stderr"
        },
        {
          "output_type": "stream",
          "text": [
            "Go to this URL in a browser: https://accounts.google.com/o/oauth2/auth?client_id=947318989803-6bn6qk8qdgf4n4g3pfee6491hc0brc4i.apps.googleusercontent.com&redirect_uri=urn%3Aietf%3Awg%3Aoauth%3A2.0%3Aoob&scope=email%20https%3A%2F%2Fwww.googleapis.com%2Fauth%2Fdocs.test%20https%3A%2F%2Fwww.googleapis.com%2Fauth%2Fdrive%20https%3A%2F%2Fwww.googleapis.com%2Fauth%2Fdrive.photos.readonly%20https%3A%2F%2Fwww.googleapis.com%2Fauth%2Fpeopleapi.readonly&response_type=code\n",
            "\n",
            "Enter your authorization code:\n",
            "··········\n",
            "Mounted at /content/gdrive\n"
          ],
          "name": "stdout"
        }
      ]
    },
    {
      "cell_type": "code",
      "metadata": {
        "id": "j7ePZmbPX2Bn",
        "colab_type": "code",
        "colab": {}
      },
      "source": [
        "import collections\n",
        "from sklearn import preprocessing\n",
        "import matplotlib.pyplot as plt\n",
        "import numpy as np\n",
        "import pandas as pd\n",
        "import shutil\n",
        "import os\n",
        "\n",
        "\n",
        "# Encode text values to dummy variables(i.e. [1,0,0],[0,1,0],[0,0,1] for red,green,blue)\n",
        "def encode_text_dummy(df, name):\n",
        "    dummies = pd.get_dummies(df[name])\n",
        "    for x in dummies.columns:\n",
        "        dummy_name = \"{}-{}\".format(name, x)\n",
        "        df[dummy_name] = dummies[x]\n",
        "    df.drop(name, axis=1, inplace=True)\n",
        "\n",
        "\n",
        "# Encode a numeric column as zscores\n",
        "def encode_numeric_zscore(df, name, mean=None, sd=None):\n",
        "    if mean is None:\n",
        "        mean = df[name].mean()\n",
        "\n",
        "    if sd is None:\n",
        "        sd = df[name].std()\n",
        "\n",
        "    df[name] = (df[name] - mean) / sd\n",
        "\n",
        "\n",
        "# Convert all missing values in the specified column to the median\n",
        "def missing_median(df, name):\n",
        "    med = df[name].median()\n",
        "    df[name] = df[name].fillna(med)\n",
        "    \n",
        "\n",
        "# Regression chart.\n",
        "def chart_regression(pred,y,sort=True):\n",
        "    t = pd.DataFrame({'pred' : pred, 'y' : y.flatten()})\n",
        "    if sort:\n",
        "        t.sort_values(by=['y'],inplace=True)\n",
        "    a = plt.plot(t['y'].tolist(),label='expected')\n",
        "    b = plt.plot(t['pred'].tolist(),label='prediction')\n",
        "    plt.ylabel('output')\n",
        "    plt.legend()\n",
        "    plt.show()"
      ],
      "execution_count": 0,
      "outputs": []
    },
    {
      "cell_type": "markdown",
      "metadata": {
        "id": "qWnjb1iXnKBQ",
        "colab_type": "text"
      },
      "source": [
        "## Load dataset"
      ]
    },
    {
      "cell_type": "code",
      "metadata": {
        "id": "-Ckw3oZCnKBQ",
        "colab_type": "code",
        "colab": {}
      },
      "source": [
        "filename_read = os.path.join(\"/content/gdrive/My Drive/Colab Notebooks/Houses Dataset/HousesInfo.txt\")"
      ],
      "execution_count": 0,
      "outputs": []
    },
    {
      "cell_type": "code",
      "metadata": {
        "id": "-o-NB_AgnKBT",
        "colab_type": "code",
        "colab": {}
      },
      "source": [
        "cols=[\"Bedrooms\",\"Bathrooms\",\"area\",\"zipcode\",\"price\"]"
      ],
      "execution_count": 0,
      "outputs": []
    },
    {
      "cell_type": "code",
      "metadata": {
        "id": "ngnQQzrknKBX",
        "colab_type": "code",
        "colab": {}
      },
      "source": [
        "df = pd.read_csv(filename_read , sep=\" \", header=None , names=cols)"
      ],
      "execution_count": 0,
      "outputs": []
    },
    {
      "cell_type": "code",
      "metadata": {
        "id": "ky78gbtAnKBa",
        "colab_type": "code",
        "outputId": "586685be-72a4-4e34-9b6e-f01da4065cc6",
        "colab": {
          "base_uri": "https://localhost:8080/",
          "height": 204
        }
      },
      "source": [
        "df[:5]"
      ],
      "execution_count": 0,
      "outputs": [
        {
          "output_type": "execute_result",
          "data": {
            "text/html": [
              "<div>\n",
              "<style scoped>\n",
              "    .dataframe tbody tr th:only-of-type {\n",
              "        vertical-align: middle;\n",
              "    }\n",
              "\n",
              "    .dataframe tbody tr th {\n",
              "        vertical-align: top;\n",
              "    }\n",
              "\n",
              "    .dataframe thead th {\n",
              "        text-align: right;\n",
              "    }\n",
              "</style>\n",
              "<table border=\"1\" class=\"dataframe\">\n",
              "  <thead>\n",
              "    <tr style=\"text-align: right;\">\n",
              "      <th></th>\n",
              "      <th>Bedrooms</th>\n",
              "      <th>Bathrooms</th>\n",
              "      <th>area</th>\n",
              "      <th>zipcode</th>\n",
              "      <th>price</th>\n",
              "    </tr>\n",
              "  </thead>\n",
              "  <tbody>\n",
              "    <tr>\n",
              "      <th>0</th>\n",
              "      <td>4</td>\n",
              "      <td>4.0</td>\n",
              "      <td>4053</td>\n",
              "      <td>85255</td>\n",
              "      <td>869500</td>\n",
              "    </tr>\n",
              "    <tr>\n",
              "      <th>1</th>\n",
              "      <td>4</td>\n",
              "      <td>3.0</td>\n",
              "      <td>3343</td>\n",
              "      <td>36372</td>\n",
              "      <td>865200</td>\n",
              "    </tr>\n",
              "    <tr>\n",
              "      <th>2</th>\n",
              "      <td>3</td>\n",
              "      <td>4.0</td>\n",
              "      <td>3923</td>\n",
              "      <td>85266</td>\n",
              "      <td>889000</td>\n",
              "    </tr>\n",
              "    <tr>\n",
              "      <th>3</th>\n",
              "      <td>5</td>\n",
              "      <td>5.0</td>\n",
              "      <td>4022</td>\n",
              "      <td>85262</td>\n",
              "      <td>910000</td>\n",
              "    </tr>\n",
              "    <tr>\n",
              "      <th>4</th>\n",
              "      <td>3</td>\n",
              "      <td>4.0</td>\n",
              "      <td>4116</td>\n",
              "      <td>85266</td>\n",
              "      <td>971226</td>\n",
              "    </tr>\n",
              "  </tbody>\n",
              "</table>\n",
              "</div>"
            ],
            "text/plain": [
              "   Bedrooms  Bathrooms  area  zipcode   price\n",
              "0         4        4.0  4053    85255  869500\n",
              "1         4        3.0  3343    36372  865200\n",
              "2         3        4.0  3923    85266  889000\n",
              "3         5        5.0  4022    85262  910000\n",
              "4         3        4.0  4116    85266  971226"
            ]
          },
          "metadata": {
            "tags": []
          },
          "execution_count": 6
        }
      ]
    },
    {
      "cell_type": "code",
      "metadata": {
        "id": "8IczGbxmnKBe",
        "colab_type": "code",
        "outputId": "6b169e8d-fbef-419c-f328-1fcb8a35a408",
        "colab": {
          "base_uri": "https://localhost:8080/",
          "height": 34
        }
      },
      "source": [
        "df.shape"
      ],
      "execution_count": 0,
      "outputs": [
        {
          "output_type": "execute_result",
          "data": {
            "text/plain": [
              "(535, 5)"
            ]
          },
          "metadata": {
            "tags": []
          },
          "execution_count": 7
        }
      ]
    },
    {
      "cell_type": "markdown",
      "metadata": {
        "id": "maIr6UFXa2ol",
        "colab_type": "text"
      },
      "source": [
        "#### Kept the houses with a price between 50K and 900K\n",
        "#### Store index of outliers in a list, So that we can remove it from visual images using that index."
      ]
    },
    {
      "cell_type": "code",
      "metadata": {
        "id": "DGhkaeqwJZve",
        "colab_type": "code",
        "colab": {}
      },
      "source": [
        "outlier= df.index[df['price'] <= 50000].tolist()\n",
        "outlier1= df.index[df['price'] >= 900000].tolist()\n",
        "outlier= outlier+outlier1"
      ],
      "execution_count": 0,
      "outputs": []
    },
    {
      "cell_type": "code",
      "metadata": {
        "id": "NZST3oG0Qrwp",
        "colab_type": "code",
        "outputId": "0519219b-88c0-4ecd-c50e-c62ab371efd1",
        "colab": {
          "base_uri": "https://localhost:8080/",
          "height": 34
        }
      },
      "source": [
        "len(outlier)"
      ],
      "execution_count": 0,
      "outputs": [
        {
          "output_type": "execute_result",
          "data": {
            "text/plain": [
              "83"
            ]
          },
          "metadata": {
            "tags": []
          },
          "execution_count": 9
        }
      ]
    },
    {
      "cell_type": "markdown",
      "metadata": {
        "id": "0t27o-X2cPFs",
        "colab_type": "text"
      },
      "source": [
        "#### Remove Outliers."
      ]
    },
    {
      "cell_type": "code",
      "metadata": {
        "id": "61y8gMl1aR71",
        "colab_type": "code",
        "colab": {}
      },
      "source": [
        "df = df.loc[(df['price'] > 50000) & (df['price'] < 900000)]"
      ],
      "execution_count": 0,
      "outputs": []
    },
    {
      "cell_type": "code",
      "metadata": {
        "id": "n3Nrnsv4avwS",
        "colab_type": "code",
        "outputId": "da03baea-e588-4e8a-d0d3-f2540cda3197",
        "colab": {
          "base_uri": "https://localhost:8080/",
          "height": 204
        }
      },
      "source": [
        "df[:5]"
      ],
      "execution_count": 0,
      "outputs": [
        {
          "output_type": "execute_result",
          "data": {
            "text/html": [
              "<div>\n",
              "<style scoped>\n",
              "    .dataframe tbody tr th:only-of-type {\n",
              "        vertical-align: middle;\n",
              "    }\n",
              "\n",
              "    .dataframe tbody tr th {\n",
              "        vertical-align: top;\n",
              "    }\n",
              "\n",
              "    .dataframe thead th {\n",
              "        text-align: right;\n",
              "    }\n",
              "</style>\n",
              "<table border=\"1\" class=\"dataframe\">\n",
              "  <thead>\n",
              "    <tr style=\"text-align: right;\">\n",
              "      <th></th>\n",
              "      <th>Bedrooms</th>\n",
              "      <th>Bathrooms</th>\n",
              "      <th>area</th>\n",
              "      <th>zipcode</th>\n",
              "      <th>price</th>\n",
              "    </tr>\n",
              "  </thead>\n",
              "  <tbody>\n",
              "    <tr>\n",
              "      <th>0</th>\n",
              "      <td>4</td>\n",
              "      <td>4.0</td>\n",
              "      <td>4053</td>\n",
              "      <td>85255</td>\n",
              "      <td>869500</td>\n",
              "    </tr>\n",
              "    <tr>\n",
              "      <th>1</th>\n",
              "      <td>4</td>\n",
              "      <td>3.0</td>\n",
              "      <td>3343</td>\n",
              "      <td>36372</td>\n",
              "      <td>865200</td>\n",
              "    </tr>\n",
              "    <tr>\n",
              "      <th>2</th>\n",
              "      <td>3</td>\n",
              "      <td>4.0</td>\n",
              "      <td>3923</td>\n",
              "      <td>85266</td>\n",
              "      <td>889000</td>\n",
              "    </tr>\n",
              "    <tr>\n",
              "      <th>6</th>\n",
              "      <td>3</td>\n",
              "      <td>4.0</td>\n",
              "      <td>2544</td>\n",
              "      <td>85262</td>\n",
              "      <td>799000</td>\n",
              "    </tr>\n",
              "    <tr>\n",
              "      <th>10</th>\n",
              "      <td>5</td>\n",
              "      <td>5.0</td>\n",
              "      <td>4829</td>\n",
              "      <td>85266</td>\n",
              "      <td>519200</td>\n",
              "    </tr>\n",
              "  </tbody>\n",
              "</table>\n",
              "</div>"
            ],
            "text/plain": [
              "    Bedrooms  Bathrooms  area  zipcode   price\n",
              "0          4        4.0  4053    85255  869500\n",
              "1          4        3.0  3343    36372  865200\n",
              "2          3        4.0  3923    85266  889000\n",
              "6          3        4.0  2544    85262  799000\n",
              "10         5        5.0  4829    85266  519200"
            ]
          },
          "metadata": {
            "tags": []
          },
          "execution_count": 11
        }
      ]
    },
    {
      "cell_type": "code",
      "metadata": {
        "id": "ydZS3_npaoVq",
        "colab_type": "code",
        "outputId": "cc54f34b-e215-4a02-f585-6b78a915854c",
        "colab": {
          "base_uri": "https://localhost:8080/",
          "height": 34
        }
      },
      "source": [
        "df.shape"
      ],
      "execution_count": 0,
      "outputs": [
        {
          "output_type": "execute_result",
          "data": {
            "text/plain": [
              "(452, 5)"
            ]
          },
          "metadata": {
            "tags": []
          },
          "execution_count": 12
        }
      ]
    },
    {
      "cell_type": "markdown",
      "metadata": {
        "id": "DVkyiW4fcjc3",
        "colab_type": "text"
      },
      "source": [
        "#### For all missing values, inserted MEAN values using defination \"missing_median\"."
      ]
    },
    {
      "cell_type": "code",
      "metadata": {
        "id": "qvtaijhCY8nW",
        "colab_type": "code",
        "colab": {}
      },
      "source": [
        "missing_median(df,'Bedrooms')\n",
        "missing_median(df,'Bathrooms')\n",
        "missing_median(df,'area')\n",
        "missing_median(df,'price')"
      ],
      "execution_count": 0,
      "outputs": []
    },
    {
      "cell_type": "markdown",
      "metadata": {
        "id": "5ft1Xu1lc1wx",
        "colab_type": "text"
      },
      "source": [
        "#### Encode categorical features using defination \"encode_text_dummy\"."
      ]
    },
    {
      "cell_type": "code",
      "metadata": {
        "id": "IMT0GGwzZqNO",
        "colab_type": "code",
        "colab": {}
      },
      "source": [
        "encode_text_dummy(df, 'Bedrooms')\n",
        "encode_text_dummy(df, 'Bathrooms')\n",
        "encode_text_dummy(df,'zipcode')"
      ],
      "execution_count": 0,
      "outputs": []
    },
    {
      "cell_type": "code",
      "metadata": {
        "id": "SBJMw4D3b4uR",
        "colab_type": "code",
        "outputId": "7ff5c4d9-8cc4-4119-f788-5e7c102993fd",
        "colab": {
          "base_uri": "https://localhost:8080/",
          "height": 34
        }
      },
      "source": [
        "df.shape"
      ],
      "execution_count": 0,
      "outputs": [
        {
          "output_type": "execute_result",
          "data": {
            "text/plain": [
              "(452, 63)"
            ]
          },
          "metadata": {
            "tags": []
          },
          "execution_count": 15
        }
      ]
    },
    {
      "cell_type": "markdown",
      "metadata": {
        "id": "OMypsm9OdGyE",
        "colab_type": "text"
      },
      "source": [
        "#### Normalize numeric features using \"Z-Score\"."
      ]
    },
    {
      "cell_type": "code",
      "metadata": {
        "id": "Cr6Tq7zsez3M",
        "colab_type": "code",
        "colab": {}
      },
      "source": [
        "encode_numeric_zscore(df, 'area')"
      ],
      "execution_count": 0,
      "outputs": []
    },
    {
      "cell_type": "code",
      "metadata": {
        "id": "qHWUKMRdfEPg",
        "colab_type": "code",
        "outputId": "4968d942-49a1-4862-e421-aa9df7dccbaf",
        "colab": {
          "base_uri": "https://localhost:8080/",
          "height": 241
        }
      },
      "source": [
        "df[:5]"
      ],
      "execution_count": 0,
      "outputs": [
        {
          "output_type": "execute_result",
          "data": {
            "text/html": [
              "<div>\n",
              "<style scoped>\n",
              "    .dataframe tbody tr th:only-of-type {\n",
              "        vertical-align: middle;\n",
              "    }\n",
              "\n",
              "    .dataframe tbody tr th {\n",
              "        vertical-align: top;\n",
              "    }\n",
              "\n",
              "    .dataframe thead th {\n",
              "        text-align: right;\n",
              "    }\n",
              "</style>\n",
              "<table border=\"1\" class=\"dataframe\">\n",
              "  <thead>\n",
              "    <tr style=\"text-align: right;\">\n",
              "      <th></th>\n",
              "      <th>area</th>\n",
              "      <th>price</th>\n",
              "      <th>Bedrooms-1</th>\n",
              "      <th>Bedrooms-2</th>\n",
              "      <th>Bedrooms-3</th>\n",
              "      <th>Bedrooms-4</th>\n",
              "      <th>Bedrooms-5</th>\n",
              "      <th>Bedrooms-6</th>\n",
              "      <th>Bedrooms-7</th>\n",
              "      <th>Bedrooms-8</th>\n",
              "      <th>Bedrooms-10</th>\n",
              "      <th>Bathrooms-1.0</th>\n",
              "      <th>Bathrooms-1.5</th>\n",
              "      <th>Bathrooms-2.0</th>\n",
              "      <th>Bathrooms-2.5</th>\n",
              "      <th>Bathrooms-3.0</th>\n",
              "      <th>Bathrooms-3.25</th>\n",
              "      <th>Bathrooms-3.5</th>\n",
              "      <th>Bathrooms-4.0</th>\n",
              "      <th>Bathrooms-4.5</th>\n",
              "      <th>Bathrooms-5.0</th>\n",
              "      <th>Bathrooms-6.0</th>\n",
              "      <th>zipcode-36372</th>\n",
              "      <th>zipcode-60002</th>\n",
              "      <th>zipcode-60016</th>\n",
              "      <th>zipcode-60046</th>\n",
              "      <th>zipcode-62025</th>\n",
              "      <th>zipcode-62034</th>\n",
              "      <th>zipcode-62088</th>\n",
              "      <th>zipcode-62214</th>\n",
              "      <th>zipcode-62234</th>\n",
              "      <th>zipcode-62249</th>\n",
              "      <th>zipcode-81418</th>\n",
              "      <th>zipcode-81521</th>\n",
              "      <th>zipcode-81524</th>\n",
              "      <th>zipcode-85255</th>\n",
              "      <th>zipcode-85262</th>\n",
              "      <th>zipcode-85266</th>\n",
              "      <th>zipcode-85331</th>\n",
              "      <th>zipcode-91752</th>\n",
              "      <th>zipcode-91901</th>\n",
              "      <th>zipcode-91915</th>\n",
              "      <th>zipcode-92021</th>\n",
              "      <th>zipcode-92253</th>\n",
              "      <th>zipcode-92276</th>\n",
              "      <th>zipcode-92543</th>\n",
              "      <th>zipcode-92677</th>\n",
              "      <th>zipcode-92692</th>\n",
              "      <th>zipcode-92802</th>\n",
              "      <th>zipcode-92880</th>\n",
              "      <th>zipcode-93105</th>\n",
              "      <th>zipcode-93111</th>\n",
              "      <th>zipcode-93314</th>\n",
              "      <th>zipcode-93446</th>\n",
              "      <th>zipcode-93510</th>\n",
              "      <th>zipcode-93720</th>\n",
              "      <th>zipcode-94501</th>\n",
              "      <th>zipcode-94531</th>\n",
              "      <th>zipcode-94565</th>\n",
              "      <th>zipcode-94568</th>\n",
              "      <th>zipcode-95220</th>\n",
              "      <th>zipcode-96019</th>\n",
              "      <th>zipcode-98021</th>\n",
              "    </tr>\n",
              "  </thead>\n",
              "  <tbody>\n",
              "    <tr>\n",
              "      <th>0</th>\n",
              "      <td>1.652649</td>\n",
              "      <td>869500</td>\n",
              "      <td>0</td>\n",
              "      <td>0</td>\n",
              "      <td>0</td>\n",
              "      <td>1</td>\n",
              "      <td>0</td>\n",
              "      <td>0</td>\n",
              "      <td>0</td>\n",
              "      <td>0</td>\n",
              "      <td>0</td>\n",
              "      <td>0</td>\n",
              "      <td>0</td>\n",
              "      <td>0</td>\n",
              "      <td>0</td>\n",
              "      <td>0</td>\n",
              "      <td>0</td>\n",
              "      <td>0</td>\n",
              "      <td>1</td>\n",
              "      <td>0</td>\n",
              "      <td>0</td>\n",
              "      <td>0</td>\n",
              "      <td>0</td>\n",
              "      <td>0</td>\n",
              "      <td>0</td>\n",
              "      <td>0</td>\n",
              "      <td>0</td>\n",
              "      <td>0</td>\n",
              "      <td>0</td>\n",
              "      <td>0</td>\n",
              "      <td>0</td>\n",
              "      <td>0</td>\n",
              "      <td>0</td>\n",
              "      <td>0</td>\n",
              "      <td>0</td>\n",
              "      <td>1</td>\n",
              "      <td>0</td>\n",
              "      <td>0</td>\n",
              "      <td>0</td>\n",
              "      <td>0</td>\n",
              "      <td>0</td>\n",
              "      <td>0</td>\n",
              "      <td>0</td>\n",
              "      <td>0</td>\n",
              "      <td>0</td>\n",
              "      <td>0</td>\n",
              "      <td>0</td>\n",
              "      <td>0</td>\n",
              "      <td>0</td>\n",
              "      <td>0</td>\n",
              "      <td>0</td>\n",
              "      <td>0</td>\n",
              "      <td>0</td>\n",
              "      <td>0</td>\n",
              "      <td>0</td>\n",
              "      <td>0</td>\n",
              "      <td>0</td>\n",
              "      <td>0</td>\n",
              "      <td>0</td>\n",
              "      <td>0</td>\n",
              "      <td>0</td>\n",
              "      <td>0</td>\n",
              "      <td>0</td>\n",
              "    </tr>\n",
              "    <tr>\n",
              "      <th>1</th>\n",
              "      <td>1.022859</td>\n",
              "      <td>865200</td>\n",
              "      <td>0</td>\n",
              "      <td>0</td>\n",
              "      <td>0</td>\n",
              "      <td>1</td>\n",
              "      <td>0</td>\n",
              "      <td>0</td>\n",
              "      <td>0</td>\n",
              "      <td>0</td>\n",
              "      <td>0</td>\n",
              "      <td>0</td>\n",
              "      <td>0</td>\n",
              "      <td>0</td>\n",
              "      <td>0</td>\n",
              "      <td>1</td>\n",
              "      <td>0</td>\n",
              "      <td>0</td>\n",
              "      <td>0</td>\n",
              "      <td>0</td>\n",
              "      <td>0</td>\n",
              "      <td>0</td>\n",
              "      <td>1</td>\n",
              "      <td>0</td>\n",
              "      <td>0</td>\n",
              "      <td>0</td>\n",
              "      <td>0</td>\n",
              "      <td>0</td>\n",
              "      <td>0</td>\n",
              "      <td>0</td>\n",
              "      <td>0</td>\n",
              "      <td>0</td>\n",
              "      <td>0</td>\n",
              "      <td>0</td>\n",
              "      <td>0</td>\n",
              "      <td>0</td>\n",
              "      <td>0</td>\n",
              "      <td>0</td>\n",
              "      <td>0</td>\n",
              "      <td>0</td>\n",
              "      <td>0</td>\n",
              "      <td>0</td>\n",
              "      <td>0</td>\n",
              "      <td>0</td>\n",
              "      <td>0</td>\n",
              "      <td>0</td>\n",
              "      <td>0</td>\n",
              "      <td>0</td>\n",
              "      <td>0</td>\n",
              "      <td>0</td>\n",
              "      <td>0</td>\n",
              "      <td>0</td>\n",
              "      <td>0</td>\n",
              "      <td>0</td>\n",
              "      <td>0</td>\n",
              "      <td>0</td>\n",
              "      <td>0</td>\n",
              "      <td>0</td>\n",
              "      <td>0</td>\n",
              "      <td>0</td>\n",
              "      <td>0</td>\n",
              "      <td>0</td>\n",
              "      <td>0</td>\n",
              "    </tr>\n",
              "    <tr>\n",
              "      <th>2</th>\n",
              "      <td>1.537335</td>\n",
              "      <td>889000</td>\n",
              "      <td>0</td>\n",
              "      <td>0</td>\n",
              "      <td>1</td>\n",
              "      <td>0</td>\n",
              "      <td>0</td>\n",
              "      <td>0</td>\n",
              "      <td>0</td>\n",
              "      <td>0</td>\n",
              "      <td>0</td>\n",
              "      <td>0</td>\n",
              "      <td>0</td>\n",
              "      <td>0</td>\n",
              "      <td>0</td>\n",
              "      <td>0</td>\n",
              "      <td>0</td>\n",
              "      <td>0</td>\n",
              "      <td>1</td>\n",
              "      <td>0</td>\n",
              "      <td>0</td>\n",
              "      <td>0</td>\n",
              "      <td>0</td>\n",
              "      <td>0</td>\n",
              "      <td>0</td>\n",
              "      <td>0</td>\n",
              "      <td>0</td>\n",
              "      <td>0</td>\n",
              "      <td>0</td>\n",
              "      <td>0</td>\n",
              "      <td>0</td>\n",
              "      <td>0</td>\n",
              "      <td>0</td>\n",
              "      <td>0</td>\n",
              "      <td>0</td>\n",
              "      <td>0</td>\n",
              "      <td>0</td>\n",
              "      <td>1</td>\n",
              "      <td>0</td>\n",
              "      <td>0</td>\n",
              "      <td>0</td>\n",
              "      <td>0</td>\n",
              "      <td>0</td>\n",
              "      <td>0</td>\n",
              "      <td>0</td>\n",
              "      <td>0</td>\n",
              "      <td>0</td>\n",
              "      <td>0</td>\n",
              "      <td>0</td>\n",
              "      <td>0</td>\n",
              "      <td>0</td>\n",
              "      <td>0</td>\n",
              "      <td>0</td>\n",
              "      <td>0</td>\n",
              "      <td>0</td>\n",
              "      <td>0</td>\n",
              "      <td>0</td>\n",
              "      <td>0</td>\n",
              "      <td>0</td>\n",
              "      <td>0</td>\n",
              "      <td>0</td>\n",
              "      <td>0</td>\n",
              "      <td>0</td>\n",
              "    </tr>\n",
              "    <tr>\n",
              "      <th>6</th>\n",
              "      <td>0.314122</td>\n",
              "      <td>799000</td>\n",
              "      <td>0</td>\n",
              "      <td>0</td>\n",
              "      <td>1</td>\n",
              "      <td>0</td>\n",
              "      <td>0</td>\n",
              "      <td>0</td>\n",
              "      <td>0</td>\n",
              "      <td>0</td>\n",
              "      <td>0</td>\n",
              "      <td>0</td>\n",
              "      <td>0</td>\n",
              "      <td>0</td>\n",
              "      <td>0</td>\n",
              "      <td>0</td>\n",
              "      <td>0</td>\n",
              "      <td>0</td>\n",
              "      <td>1</td>\n",
              "      <td>0</td>\n",
              "      <td>0</td>\n",
              "      <td>0</td>\n",
              "      <td>0</td>\n",
              "      <td>0</td>\n",
              "      <td>0</td>\n",
              "      <td>0</td>\n",
              "      <td>0</td>\n",
              "      <td>0</td>\n",
              "      <td>0</td>\n",
              "      <td>0</td>\n",
              "      <td>0</td>\n",
              "      <td>0</td>\n",
              "      <td>0</td>\n",
              "      <td>0</td>\n",
              "      <td>0</td>\n",
              "      <td>0</td>\n",
              "      <td>1</td>\n",
              "      <td>0</td>\n",
              "      <td>0</td>\n",
              "      <td>0</td>\n",
              "      <td>0</td>\n",
              "      <td>0</td>\n",
              "      <td>0</td>\n",
              "      <td>0</td>\n",
              "      <td>0</td>\n",
              "      <td>0</td>\n",
              "      <td>0</td>\n",
              "      <td>0</td>\n",
              "      <td>0</td>\n",
              "      <td>0</td>\n",
              "      <td>0</td>\n",
              "      <td>0</td>\n",
              "      <td>0</td>\n",
              "      <td>0</td>\n",
              "      <td>0</td>\n",
              "      <td>0</td>\n",
              "      <td>0</td>\n",
              "      <td>0</td>\n",
              "      <td>0</td>\n",
              "      <td>0</td>\n",
              "      <td>0</td>\n",
              "      <td>0</td>\n",
              "      <td>0</td>\n",
              "    </tr>\n",
              "    <tr>\n",
              "      <th>10</th>\n",
              "      <td>2.340984</td>\n",
              "      <td>519200</td>\n",
              "      <td>0</td>\n",
              "      <td>0</td>\n",
              "      <td>0</td>\n",
              "      <td>0</td>\n",
              "      <td>1</td>\n",
              "      <td>0</td>\n",
              "      <td>0</td>\n",
              "      <td>0</td>\n",
              "      <td>0</td>\n",
              "      <td>0</td>\n",
              "      <td>0</td>\n",
              "      <td>0</td>\n",
              "      <td>0</td>\n",
              "      <td>0</td>\n",
              "      <td>0</td>\n",
              "      <td>0</td>\n",
              "      <td>0</td>\n",
              "      <td>0</td>\n",
              "      <td>1</td>\n",
              "      <td>0</td>\n",
              "      <td>0</td>\n",
              "      <td>0</td>\n",
              "      <td>0</td>\n",
              "      <td>0</td>\n",
              "      <td>0</td>\n",
              "      <td>0</td>\n",
              "      <td>0</td>\n",
              "      <td>0</td>\n",
              "      <td>0</td>\n",
              "      <td>0</td>\n",
              "      <td>0</td>\n",
              "      <td>0</td>\n",
              "      <td>0</td>\n",
              "      <td>0</td>\n",
              "      <td>0</td>\n",
              "      <td>1</td>\n",
              "      <td>0</td>\n",
              "      <td>0</td>\n",
              "      <td>0</td>\n",
              "      <td>0</td>\n",
              "      <td>0</td>\n",
              "      <td>0</td>\n",
              "      <td>0</td>\n",
              "      <td>0</td>\n",
              "      <td>0</td>\n",
              "      <td>0</td>\n",
              "      <td>0</td>\n",
              "      <td>0</td>\n",
              "      <td>0</td>\n",
              "      <td>0</td>\n",
              "      <td>0</td>\n",
              "      <td>0</td>\n",
              "      <td>0</td>\n",
              "      <td>0</td>\n",
              "      <td>0</td>\n",
              "      <td>0</td>\n",
              "      <td>0</td>\n",
              "      <td>0</td>\n",
              "      <td>0</td>\n",
              "      <td>0</td>\n",
              "      <td>0</td>\n",
              "    </tr>\n",
              "  </tbody>\n",
              "</table>\n",
              "</div>"
            ],
            "text/plain": [
              "        area   price  Bedrooms-1  ...  zipcode-95220  zipcode-96019  zipcode-98021\n",
              "0   1.652649  869500           0  ...              0              0              0\n",
              "1   1.022859  865200           0  ...              0              0              0\n",
              "2   1.537335  889000           0  ...              0              0              0\n",
              "6   0.314122  799000           0  ...              0              0              0\n",
              "10  2.340984  519200           0  ...              0              0              0\n",
              "\n",
              "[5 rows x 63 columns]"
            ]
          },
          "metadata": {
            "tags": []
          },
          "execution_count": 17
        }
      ]
    },
    {
      "cell_type": "markdown",
      "metadata": {
        "id": "bTS-a2BwnKBh",
        "colab_type": "text"
      },
      "source": [
        "## Handling Images dataset"
      ]
    },
    {
      "cell_type": "code",
      "metadata": {
        "id": "N1X9zyfnnKBh",
        "colab_type": "code",
        "colab": {}
      },
      "source": [
        "## Bathroom.jpg\n",
        "new_images=[]\n",
        "for number in range(1, 536):\n",
        "    for path in glob.glob(\"/content/gdrive/My Drive/Colab Notebooks/Houses Dataset/\" + str(number) + \"_bathroom.jpg\"):\n",
        "        if os.path.isfile(path):\n",
        "            new_images.append(path) "
      ],
      "execution_count": 0,
      "outputs": []
    },
    {
      "cell_type": "code",
      "metadata": {
        "id": "eSzBG7PvnKBk",
        "colab_type": "code",
        "outputId": "c49773f0-932d-4648-e658-b505ec54a7bd",
        "colab": {
          "base_uri": "https://localhost:8080/",
          "height": 102
        }
      },
      "source": [
        "new_images[:5]"
      ],
      "execution_count": 0,
      "outputs": [
        {
          "output_type": "execute_result",
          "data": {
            "text/plain": [
              "['/content/gdrive/My Drive/Colab Notebooks/Houses Dataset/1_bathroom.jpg',\n",
              " '/content/gdrive/My Drive/Colab Notebooks/Houses Dataset/2_bathroom.jpg',\n",
              " '/content/gdrive/My Drive/Colab Notebooks/Houses Dataset/3_bathroom.jpg',\n",
              " '/content/gdrive/My Drive/Colab Notebooks/Houses Dataset/4_bathroom.jpg',\n",
              " '/content/gdrive/My Drive/Colab Notebooks/Houses Dataset/5_bathroom.jpg']"
            ]
          },
          "metadata": {
            "tags": []
          },
          "execution_count": 19
        }
      ]
    },
    {
      "cell_type": "code",
      "metadata": {
        "id": "SdXHsm6lnKBn",
        "colab_type": "code",
        "colab": {}
      },
      "source": [
        "img= pd.DataFrame(new_images,columns = ['bathroom_img'])"
      ],
      "execution_count": 0,
      "outputs": []
    },
    {
      "cell_type": "code",
      "metadata": {
        "id": "CgStNYNJnKBp",
        "colab_type": "code",
        "colab": {}
      },
      "source": [
        "## bedroom images\n",
        "bedroom_images = []\n",
        "for number in range(1, 536):\n",
        "    for path in glob.glob(\"/content/gdrive/My Drive/Colab Notebooks/Houses Dataset/\" + str(number) + \"_bedroom.jpg\"):\n",
        "        if os.path.isfile(path):\n",
        "            bedroom_images.append(path) "
      ],
      "execution_count": 0,
      "outputs": []
    },
    {
      "cell_type": "code",
      "metadata": {
        "id": "DGGWWkwEnKBr",
        "colab_type": "code",
        "colab": {}
      },
      "source": [
        "img['bedroom_img']=bedroom_images"
      ],
      "execution_count": 0,
      "outputs": []
    },
    {
      "cell_type": "code",
      "metadata": {
        "id": "ol69qeqnnKBu",
        "colab_type": "code",
        "colab": {}
      },
      "source": [
        "frontal_images = []\n",
        "for number in range(1, 536):\n",
        "    for path in glob.glob(\"/content/gdrive/My Drive/Colab Notebooks/Houses Dataset/\" + str(number) + \"_frontal.jpg\"):\n",
        "        if os.path.isfile(path):\n",
        "            frontal_images.append(path) "
      ],
      "execution_count": 0,
      "outputs": []
    },
    {
      "cell_type": "code",
      "metadata": {
        "id": "aA2XZ5MLnKBw",
        "colab_type": "code",
        "colab": {}
      },
      "source": [
        "img['frontal_img']=frontal_images"
      ],
      "execution_count": 0,
      "outputs": []
    },
    {
      "cell_type": "code",
      "metadata": {
        "id": "XQttf7U_nKBz",
        "colab_type": "code",
        "colab": {}
      },
      "source": [
        "kitchen_images = []\n",
        "for number in range(1, 536):\n",
        "    for path in glob.glob(\"/content/gdrive/My Drive/Colab Notebooks/Houses Dataset/\" + str(number) + \"_kitchen.jpg\"):\n",
        "        if os.path.isfile(path):\n",
        "            kitchen_images.append(path) "
      ],
      "execution_count": 0,
      "outputs": []
    },
    {
      "cell_type": "code",
      "metadata": {
        "id": "NLDGo0EZnKB1",
        "colab_type": "code",
        "colab": {}
      },
      "source": [
        "img['kitchen_img']=kitchen_images"
      ],
      "execution_count": 0,
      "outputs": []
    },
    {
      "cell_type": "code",
      "metadata": {
        "id": "VZ9HdROdnKB4",
        "colab_type": "code",
        "outputId": "36592d86-6799-420f-fbef-a03a79e1af69",
        "colab": {
          "base_uri": "https://localhost:8080/",
          "height": 289
        }
      },
      "source": [
        "img.head()"
      ],
      "execution_count": 0,
      "outputs": [
        {
          "output_type": "execute_result",
          "data": {
            "text/html": [
              "<div>\n",
              "<style scoped>\n",
              "    .dataframe tbody tr th:only-of-type {\n",
              "        vertical-align: middle;\n",
              "    }\n",
              "\n",
              "    .dataframe tbody tr th {\n",
              "        vertical-align: top;\n",
              "    }\n",
              "\n",
              "    .dataframe thead th {\n",
              "        text-align: right;\n",
              "    }\n",
              "</style>\n",
              "<table border=\"1\" class=\"dataframe\">\n",
              "  <thead>\n",
              "    <tr style=\"text-align: right;\">\n",
              "      <th></th>\n",
              "      <th>bathroom_img</th>\n",
              "      <th>bedroom_img</th>\n",
              "      <th>frontal_img</th>\n",
              "      <th>kitchen_img</th>\n",
              "    </tr>\n",
              "  </thead>\n",
              "  <tbody>\n",
              "    <tr>\n",
              "      <th>0</th>\n",
              "      <td>/content/gdrive/My Drive/Colab Notebooks/House...</td>\n",
              "      <td>/content/gdrive/My Drive/Colab Notebooks/House...</td>\n",
              "      <td>/content/gdrive/My Drive/Colab Notebooks/House...</td>\n",
              "      <td>/content/gdrive/My Drive/Colab Notebooks/House...</td>\n",
              "    </tr>\n",
              "    <tr>\n",
              "      <th>1</th>\n",
              "      <td>/content/gdrive/My Drive/Colab Notebooks/House...</td>\n",
              "      <td>/content/gdrive/My Drive/Colab Notebooks/House...</td>\n",
              "      <td>/content/gdrive/My Drive/Colab Notebooks/House...</td>\n",
              "      <td>/content/gdrive/My Drive/Colab Notebooks/House...</td>\n",
              "    </tr>\n",
              "    <tr>\n",
              "      <th>2</th>\n",
              "      <td>/content/gdrive/My Drive/Colab Notebooks/House...</td>\n",
              "      <td>/content/gdrive/My Drive/Colab Notebooks/House...</td>\n",
              "      <td>/content/gdrive/My Drive/Colab Notebooks/House...</td>\n",
              "      <td>/content/gdrive/My Drive/Colab Notebooks/House...</td>\n",
              "    </tr>\n",
              "    <tr>\n",
              "      <th>3</th>\n",
              "      <td>/content/gdrive/My Drive/Colab Notebooks/House...</td>\n",
              "      <td>/content/gdrive/My Drive/Colab Notebooks/House...</td>\n",
              "      <td>/content/gdrive/My Drive/Colab Notebooks/House...</td>\n",
              "      <td>/content/gdrive/My Drive/Colab Notebooks/House...</td>\n",
              "    </tr>\n",
              "    <tr>\n",
              "      <th>4</th>\n",
              "      <td>/content/gdrive/My Drive/Colab Notebooks/House...</td>\n",
              "      <td>/content/gdrive/My Drive/Colab Notebooks/House...</td>\n",
              "      <td>/content/gdrive/My Drive/Colab Notebooks/House...</td>\n",
              "      <td>/content/gdrive/My Drive/Colab Notebooks/House...</td>\n",
              "    </tr>\n",
              "  </tbody>\n",
              "</table>\n",
              "</div>"
            ],
            "text/plain": [
              "                                        bathroom_img  ...                                        kitchen_img\n",
              "0  /content/gdrive/My Drive/Colab Notebooks/House...  ...  /content/gdrive/My Drive/Colab Notebooks/House...\n",
              "1  /content/gdrive/My Drive/Colab Notebooks/House...  ...  /content/gdrive/My Drive/Colab Notebooks/House...\n",
              "2  /content/gdrive/My Drive/Colab Notebooks/House...  ...  /content/gdrive/My Drive/Colab Notebooks/House...\n",
              "3  /content/gdrive/My Drive/Colab Notebooks/House...  ...  /content/gdrive/My Drive/Colab Notebooks/House...\n",
              "4  /content/gdrive/My Drive/Colab Notebooks/House...  ...  /content/gdrive/My Drive/Colab Notebooks/House...\n",
              "\n",
              "[5 rows x 4 columns]"
            ]
          },
          "metadata": {
            "tags": []
          },
          "execution_count": 27
        }
      ]
    },
    {
      "cell_type": "code",
      "metadata": {
        "id": "5Nh6yT31nKB6",
        "colab_type": "code",
        "outputId": "3e57e06f-fe9b-4df7-9f8c-9ce5a6471353",
        "colab": {
          "base_uri": "https://localhost:8080/",
          "height": 34
        }
      },
      "source": [
        "img.shape"
      ],
      "execution_count": 0,
      "outputs": [
        {
          "output_type": "execute_result",
          "data": {
            "text/plain": [
              "(535, 4)"
            ]
          },
          "metadata": {
            "tags": []
          },
          "execution_count": 28
        }
      ]
    },
    {
      "cell_type": "code",
      "metadata": {
        "id": "cIz_HBCo4wdC",
        "colab_type": "code",
        "colab": {}
      },
      "source": [
        "img = img.drop(outlier)"
      ],
      "execution_count": 0,
      "outputs": []
    },
    {
      "cell_type": "code",
      "metadata": {
        "id": "L_ZUId3D5pwn",
        "colab_type": "code",
        "outputId": "c141eb1d-4017-48f3-e5dc-9bc3109b6483",
        "colab": {
          "base_uri": "https://localhost:8080/",
          "height": 34
        }
      },
      "source": [
        "img.shape"
      ],
      "execution_count": 0,
      "outputs": [
        {
          "output_type": "execute_result",
          "data": {
            "text/plain": [
              "(452, 4)"
            ]
          },
          "metadata": {
            "tags": []
          },
          "execution_count": 30
        }
      ]
    },
    {
      "cell_type": "markdown",
      "metadata": {
        "collapsed": true,
        "id": "9_O58eyXnKB9",
        "colab_type": "text"
      },
      "source": [
        "## Concatenate houses images into one image for each house"
      ]
    },
    {
      "cell_type": "code",
      "metadata": {
        "id": "-Yj48YaBnKB9",
        "colab_type": "code",
        "colab": {}
      },
      "source": [
        "images_output=[]\n",
        "for row_index,row in img.iterrows():\n",
        "            inputImages=[]\n",
        "            outputImage = np.zeros((128, 128, 3), dtype=\"uint8\")\n",
        "            image_temp1 = cv2.imread(row.bathroom_img)\n",
        "            image1 = cv2.resize(image_temp1, (64 , 64))\n",
        "            \n",
        "            image_temp2 = cv2.imread(row.bedroom_img)\n",
        "            image2 = cv2.resize(image_temp2, (64 , 64))\n",
        "            \n",
        "            image_temp3 = cv2.imread(row.frontal_img)\n",
        "            image3 = cv2.resize(image_temp3, (64 , 64))\n",
        "            \n",
        "            image_temp4 = cv2.imread(row.kitchen_img)\n",
        "            image4 = cv2.resize(image_temp4, (64 , 64))\n",
        "              \n",
        "            inputImages.append(image1)\n",
        "            inputImages.append(image2)\n",
        "            inputImages.append(image3)\n",
        "            inputImages.append(image4)\n",
        "            \n",
        "            outputImage[0:64, 0:64] = inputImages[0]\n",
        "            outputImage[0:64, 64:128] = inputImages[1]\n",
        "            outputImage[64:128, 64:128] = inputImages[2]\n",
        "            outputImage[64:128, 0:64] = inputImages[3]\n",
        "            \n",
        "        \n",
        "            images_output.append(outputImage)      \n",
        "            "
      ],
      "execution_count": 0,
      "outputs": []
    },
    {
      "cell_type": "code",
      "metadata": {
        "id": "HQ72p-vxnKCA",
        "colab_type": "code",
        "outputId": "486744ed-bd1c-4879-ecb6-fe5df1c2b483",
        "colab": {
          "base_uri": "https://localhost:8080/",
          "height": 1000
        }
      },
      "source": [
        "from matplotlib import pyplot as plt\n",
        "\n",
        "for i in images_output:\n",
        "     plt.figure(figsize=(8,8))\n",
        "     plt.imshow(i, interpolation='nearest')\n",
        "     #plt.show()"
      ],
      "execution_count": 0,
      "outputs": []
    },
    {
      "cell_type": "markdown",
      "metadata": {
        "id": "GDt6x_02nKCI",
        "colab_type": "text"
      },
      "source": [
        "## Create numpy arrays of images"
      ]
    },
    {
      "cell_type": "code",
      "metadata": {
        "id": "3LYkqqxbhCXa",
        "colab_type": "code",
        "outputId": "93c4a014-5842-4c53-9211-a6a46fac22cf",
        "colab": {
          "base_uri": "https://localhost:8080/",
          "height": 34
        }
      },
      "source": [
        "len(images_output)"
      ],
      "execution_count": 0,
      "outputs": [
        {
          "output_type": "execute_result",
          "data": {
            "text/plain": [
              "452"
            ]
          },
          "metadata": {
            "tags": []
          },
          "execution_count": 33
        }
      ]
    },
    {
      "cell_type": "code",
      "metadata": {
        "id": "1hLPL8GGnKCK",
        "colab_type": "code",
        "colab": {}
      },
      "source": [
        "img_arr=np.asarray(images_output)"
      ],
      "execution_count": 0,
      "outputs": []
    },
    {
      "cell_type": "code",
      "metadata": {
        "id": "eS936n4CnKCO",
        "colab_type": "code",
        "outputId": "68eb2aeb-cf8d-4c8a-ba12-a9a399892282",
        "colab": {
          "base_uri": "https://localhost:8080/",
          "height": 34
        }
      },
      "source": [
        "img_arr.shape"
      ],
      "execution_count": 0,
      "outputs": [
        {
          "output_type": "execute_result",
          "data": {
            "text/plain": [
              "(452, 128, 128, 3)"
            ]
          },
          "metadata": {
            "tags": []
          },
          "execution_count": 35
        }
      ]
    },
    {
      "cell_type": "markdown",
      "metadata": {
        "id": "RTm44IrcnKCS",
        "colab_type": "text"
      },
      "source": [
        "#### Separate textual dataset into x and y."
      ]
    },
    {
      "cell_type": "code",
      "metadata": {
        "id": "sHF52e5bcXl3",
        "colab_type": "code",
        "colab": {}
      },
      "source": [
        "X_NN = df.drop(['price'], axis = 1)\n",
        "y_NN = df.loc[:, ['price']]"
      ],
      "execution_count": 0,
      "outputs": []
    },
    {
      "cell_type": "markdown",
      "metadata": {
        "id": "hJdADF0mfBK9",
        "colab_type": "text"
      },
      "source": [
        "#### Split both textual and image data into train and test using Scikit-learn's train_test_split method."
      ]
    },
    {
      "cell_type": "code",
      "metadata": {
        "id": "Ka1SzBc0c0lg",
        "colab_type": "code",
        "outputId": "3cde90a6-3afc-42b5-e432-5291410eb504",
        "colab": {
          "base_uri": "https://localhost:8080/",
          "height": 85
        }
      },
      "source": [
        "x_train_NN, x_test_NN, y_train_NN, y_test_NN = train_test_split(X_NN, y_NN, test_size=0.3, random_state=42)\n",
        "print(\"Shape of x_train: {}\".format(x_train_NN.shape))\n",
        "print(\"Shape of x_test: {}\".format(x_test_NN.shape))\n",
        "print(\"Shape of y_train: {}\".format(y_train_NN.shape))\n",
        "print(\"Shape of y_test: {}\".format(y_test_NN.shape))"
      ],
      "execution_count": 0,
      "outputs": [
        {
          "output_type": "stream",
          "text": [
            "Shape of x_train: (316, 62)\n",
            "Shape of x_test: (136, 62)\n",
            "Shape of y_train: (316, 1)\n",
            "Shape of y_test: (136, 1)\n"
          ],
          "name": "stdout"
        }
      ]
    },
    {
      "cell_type": "code",
      "metadata": {
        "id": "kC47uXIC1ugS",
        "colab_type": "code",
        "outputId": "36c4068d-6da8-4d87-f66a-59bf5ada669b",
        "colab": {
          "base_uri": "https://localhost:8080/",
          "height": 51
        }
      },
      "source": [
        "img_train, img_test = train_test_split(img_arr, test_size=0.3, random_state=42)\n",
        "print(\"Shape of img_train: {}\".format(img_train.shape))\n",
        "print(\"Shape of img_test: {}\".format(img_test.shape))\n"
      ],
      "execution_count": 0,
      "outputs": [
        {
          "output_type": "stream",
          "text": [
            "Shape of img_train: (316, 128, 128, 3)\n",
            "Shape of img_test: (136, 128, 128, 3)\n"
          ],
          "name": "stdout"
        }
      ]
    },
    {
      "cell_type": "markdown",
      "metadata": {
        "id": "nxB93qPFfjnH",
        "colab_type": "text"
      },
      "source": [
        "### Using Keras-functional API, created DENSE and CNN models to extract features from text and image seperately."
      ]
    },
    {
      "cell_type": "code",
      "metadata": {
        "id": "scsvEEkcgXMB",
        "colab_type": "code",
        "outputId": "b5f74906-9e09-44cc-cbbd-8217d986608e",
        "colab": {
          "base_uri": "https://localhost:8080/",
          "height": 1000
        }
      },
      "source": [
        "# Multiple Inputs\n",
        "from keras.utils import plot_model\n",
        "from keras.models import Model\n",
        "from keras.layers import Input\n",
        "from keras.layers import Dense\n",
        "from keras.layers import Flatten\n",
        "from keras.layers.convolutional import Conv2D\n",
        "from keras.layers.pooling import MaxPooling2D\n",
        "from keras.layers.merge import concatenate\n",
        "\n",
        "# first input model\n",
        "model1 = Sequential()\n",
        "model1.add(Dense(256, input_dim=x_train_NN.shape[1], activation=\"relu\"))\n",
        "model1.add(Dense(128, activation=\"relu\"))\n",
        "model1.add(Dense(64, activation=\"relu\"))\n",
        "model1.add(Dense(32, activation=\"relu\"))\n",
        "model1.add(Dense(1, activation=\"relu\"))\n",
        "\n",
        "\n",
        "# second input model\n",
        "visible2 = Input(shape=(128,128,3))\n",
        "conv21 = Conv2D(32, kernel_size=4, activation='relu')(visible2)\n",
        "pool21 = MaxPooling2D(pool_size=(2, 2))(conv21)\n",
        "conv22 = Conv2D(16, kernel_size=4, activation='relu')(pool21)\n",
        "pool22 = MaxPooling2D(pool_size=(2, 2))(conv22)\n",
        "flat2 = Flatten()(pool22)\n",
        "model2 = Model(visible2, flat2)\n",
        "\n",
        "# merge input models\n",
        "merge = concatenate([model1.output, model2.output])\n",
        "\n",
        "# interpretation model\n",
        "hidden1 = Dense(50, activation='relu')(merge)\n",
        "hidden2 = Dense(40, activation='relu')(hidden1)\n",
        "output = Dense(1, activation='relu')(hidden2)\n",
        "\n",
        "model = Model(inputs=[model1.input, model2.input], outputs=output)\n",
        "# summarize layers\n",
        "print(model.summary())\n",
        "\n",
        "# plot model\n",
        "plot_model(model)\n",
        "\n"
      ],
      "execution_count": 0,
      "outputs": [
        {
          "output_type": "stream",
          "text": [
            "WARNING:tensorflow:From /usr/local/lib/python3.6/dist-packages/keras/backend/tensorflow_backend.py:66: The name tf.get_default_graph is deprecated. Please use tf.compat.v1.get_default_graph instead.\n",
            "\n",
            "WARNING:tensorflow:From /usr/local/lib/python3.6/dist-packages/keras/backend/tensorflow_backend.py:541: The name tf.placeholder is deprecated. Please use tf.compat.v1.placeholder instead.\n",
            "\n",
            "WARNING:tensorflow:From /usr/local/lib/python3.6/dist-packages/keras/backend/tensorflow_backend.py:4432: The name tf.random_uniform is deprecated. Please use tf.random.uniform instead.\n",
            "\n",
            "WARNING:tensorflow:From /usr/local/lib/python3.6/dist-packages/keras/backend/tensorflow_backend.py:4267: The name tf.nn.max_pool is deprecated. Please use tf.nn.max_pool2d instead.\n",
            "\n",
            "Model: \"model_2\"\n",
            "__________________________________________________________________________________________________\n",
            "Layer (type)                    Output Shape         Param #     Connected to                     \n",
            "==================================================================================================\n",
            "dense_1_input (InputLayer)      (None, 62)           0                                            \n",
            "__________________________________________________________________________________________________\n",
            "input_1 (InputLayer)            (None, 128, 128, 3)  0                                            \n",
            "__________________________________________________________________________________________________\n",
            "dense_1 (Dense)                 (None, 256)          16128       dense_1_input[0][0]              \n",
            "__________________________________________________________________________________________________\n",
            "conv2d_1 (Conv2D)               (None, 125, 125, 32) 1568        input_1[0][0]                    \n",
            "__________________________________________________________________________________________________\n",
            "dense_2 (Dense)                 (None, 128)          32896       dense_1[0][0]                    \n",
            "__________________________________________________________________________________________________\n",
            "max_pooling2d_1 (MaxPooling2D)  (None, 62, 62, 32)   0           conv2d_1[0][0]                   \n",
            "__________________________________________________________________________________________________\n",
            "dense_3 (Dense)                 (None, 64)           8256        dense_2[0][0]                    \n",
            "__________________________________________________________________________________________________\n",
            "conv2d_2 (Conv2D)               (None, 59, 59, 16)   8208        max_pooling2d_1[0][0]            \n",
            "__________________________________________________________________________________________________\n",
            "dense_4 (Dense)                 (None, 32)           2080        dense_3[0][0]                    \n",
            "__________________________________________________________________________________________________\n",
            "max_pooling2d_2 (MaxPooling2D)  (None, 29, 29, 16)   0           conv2d_2[0][0]                   \n",
            "__________________________________________________________________________________________________\n",
            "dense_5 (Dense)                 (None, 1)            33          dense_4[0][0]                    \n",
            "__________________________________________________________________________________________________\n",
            "flatten_1 (Flatten)             (None, 13456)        0           max_pooling2d_2[0][0]            \n",
            "__________________________________________________________________________________________________\n",
            "concatenate_1 (Concatenate)     (None, 13457)        0           dense_5[0][0]                    \n",
            "                                                                 flatten_1[0][0]                  \n",
            "__________________________________________________________________________________________________\n",
            "dense_6 (Dense)                 (None, 50)           672900      concatenate_1[0][0]              \n",
            "__________________________________________________________________________________________________\n",
            "dense_7 (Dense)                 (None, 40)           2040        dense_6[0][0]                    \n",
            "__________________________________________________________________________________________________\n",
            "dense_8 (Dense)                 (None, 1)            41          dense_7[0][0]                    \n",
            "==================================================================================================\n",
            "Total params: 744,150\n",
            "Trainable params: 744,150\n",
            "Non-trainable params: 0\n",
            "__________________________________________________________________________________________________\n",
            "None\n"
          ],
          "name": "stdout"
        },
        {
          "output_type": "execute_result",
          "data": {
            "image/png": "[encoded data removed]",
            "text/plain": [
              "<IPython.core.display.Image object>"
            ]
          },
          "metadata": {
            "tags": []
          },
          "execution_count": 39
        }
      ]
    },
    {
      "cell_type": "markdown",
      "metadata": {
        "id": "U1Nbpc63gGQa",
        "colab_type": "text"
      },
      "source": [
        "### Trained model using EarlyStopping. Took input of both textual and image data and output as \"Price\" data."
      ]
    },
    {
      "cell_type": "code",
      "metadata": {
        "id": "6ycfA81In4Qh",
        "colab_type": "code",
        "outputId": "d3313b2b-bb07-4109-b629-6a8cd2549918",
        "colab": {
          "base_uri": "https://localhost:8080/",
          "height": 1000
        }
      },
      "source": [
        "checkpointer = ModelCheckpoint(filepath=\"/content/gdrive/My Drive/best_weights_cnn.hdf5\", verbose=0, save_best_only=True) # save best model \n",
        "\n",
        "model.compile(loss='mean_squared_error', optimizer='adam')\n",
        "monitor = EarlyStopping(monitor='val_loss', min_delta=1e-4, patience=5, verbose=1, mode='auto')\n",
        "model.fit([x_train_NN, img_train], y_train_NN,batch_size=64,validation_data=([x_test_NN, img_test], y_test_NN),callbacks=[monitor],verbose=2,epochs=1000)\n"
      ],
      "execution_count": 0,
      "outputs": [
        {
          "output_type": "stream",
          "text": [
            "WARNING:tensorflow:From /usr/local/lib/python3.6/dist-packages/keras/optimizers.py:793: The name tf.train.Optimizer is deprecated. Please use tf.compat.v1.train.Optimizer instead.\n",
            "\n",
            "WARNING:tensorflow:From /usr/local/lib/python3.6/dist-packages/keras/backend/tensorflow_backend.py:1033: The name tf.assign_add is deprecated. Please use tf.compat.v1.assign_add instead.\n",
            "\n",
            "WARNING:tensorflow:From /usr/local/lib/python3.6/dist-packages/keras/backend/tensorflow_backend.py:1020: The name tf.assign is deprecated. Please use tf.compat.v1.assign instead.\n",
            "\n",
            "WARNING:tensorflow:From /usr/local/lib/python3.6/dist-packages/keras/backend/tensorflow_backend.py:3005: The name tf.Session is deprecated. Please use tf.compat.v1.Session instead.\n",
            "\n",
            "Train on 316 samples, validate on 136 samples\n",
            "Epoch 1/1000\n",
            "WARNING:tensorflow:From /usr/local/lib/python3.6/dist-packages/keras/backend/tensorflow_backend.py:190: The name tf.get_default_session is deprecated. Please use tf.compat.v1.get_default_session instead.\n",
            "\n",
            "WARNING:tensorflow:From /usr/local/lib/python3.6/dist-packages/keras/backend/tensorflow_backend.py:197: The name tf.ConfigProto is deprecated. Please use tf.compat.v1.ConfigProto instead.\n",
            "\n",
            "WARNING:tensorflow:From /usr/local/lib/python3.6/dist-packages/keras/backend/tensorflow_backend.py:207: The name tf.global_variables is deprecated. Please use tf.compat.v1.global_variables instead.\n",
            "\n",
            "WARNING:tensorflow:From /usr/local/lib/python3.6/dist-packages/keras/backend/tensorflow_backend.py:216: The name tf.is_variable_initialized is deprecated. Please use tf.compat.v1.is_variable_initialized instead.\n",
            "\n",
            "WARNING:tensorflow:From /usr/local/lib/python3.6/dist-packages/keras/backend/tensorflow_backend.py:223: The name tf.variables_initializer is deprecated. Please use tf.compat.v1.variables_initializer instead.\n",
            "\n",
            " - 8s - loss: 248428920417.2152 - val_loss: 266903434420.7059\n",
            "Epoch 2/1000\n",
            " - 7s - loss: 247583229770.5317 - val_loss: 263631531309.1765\n",
            "Epoch 3/1000\n",
            " - 7s - loss: 240469390297.1140 - val_loss: 245386160489.4118\n",
            "Epoch 4/1000\n",
            " - 7s - loss: 208730170484.6582 - val_loss: 183439147008.0000\n",
            "Epoch 5/1000\n",
            " - 7s - loss: 127498824017.0126 - val_loss: 71223451648.0000\n",
            "Epoch 6/1000\n",
            " - 7s - loss: 67180919691.3418 - val_loss: 82844525989.6471\n",
            "Epoch 7/1000\n",
            " - 7s - loss: 73703195298.0253 - val_loss: 57181650703.0588\n",
            "Epoch 8/1000\n",
            " - 7s - loss: 58898259708.7595 - val_loss: 70552834048.0000\n",
            "Epoch 9/1000\n",
            " - 7s - loss: 62508690833.8228 - val_loss: 61806739937.8824\n",
            "Epoch 10/1000\n",
            " - 7s - loss: 54683377404.7595 - val_loss: 56250661225.4118\n",
            "Epoch 11/1000\n",
            " - 7s - loss: 56392697363.4430 - val_loss: 56562525605.6471\n",
            "Epoch 12/1000\n",
            " - 7s - loss: 55590469943.0886 - val_loss: 57432587806.1176\n",
            "Epoch 13/1000\n",
            " - 7s - loss: 54686892706.0253 - val_loss: 58061876525.1765\n",
            "Epoch 14/1000\n",
            " - 7s - loss: 54752406359.4937 - val_loss: 56588567009.8824\n",
            "Epoch 15/1000\n",
            " - 7s - loss: 54341912083.4430 - val_loss: 56225433238.5882\n",
            "Epoch 16/1000\n",
            " - 7s - loss: 54364447290.3291 - val_loss: 56525241645.1765\n",
            "Epoch 17/1000\n",
            " - 7s - loss: 54229362973.1646 - val_loss: 56538810729.4118\n",
            "Epoch 18/1000\n",
            " - 7s - loss: 54265365309.5696 - val_loss: 55931628363.2941\n",
            "Epoch 19/1000\n",
            " - 7s - loss: 54109535530.1266 - val_loss: 56544998580.7059\n",
            "Epoch 20/1000\n",
            " - 7s - loss: 53942835848.1013 - val_loss: 56319150441.4118\n",
            "Epoch 21/1000\n",
            " - 7s - loss: 53841606318.9873 - val_loss: 55930839762.8235\n",
            "Epoch 22/1000\n",
            " - 7s - loss: 53669229788.3544 - val_loss: 55438515501.1765\n",
            "Epoch 23/1000\n",
            " - 7s - loss: 53510951897.1139 - val_loss: 56128319006.1176\n",
            "Epoch 24/1000\n",
            " - 7s - loss: 53392492155.1392 - val_loss: 55813075184.9412\n",
            "Epoch 25/1000\n",
            " - 7s - loss: 53886289997.7721 - val_loss: 54810517985.8824\n",
            "Epoch 26/1000\n",
            " - 7s - loss: 53159817008.6076 - val_loss: 56086754966.5882\n",
            "Epoch 27/1000\n",
            " - 7s - loss: 52627904330.5316 - val_loss: 54476544120.4706\n",
            "Epoch 28/1000\n",
            " - 7s - loss: 52209828514.0253 - val_loss: 54049377581.1765\n",
            "Epoch 29/1000\n",
            " - 7s - loss: 52056094745.9240 - val_loss: 53475707723.2941\n",
            "Epoch 30/1000\n",
            " - 7s - loss: 50934792243.8481 - val_loss: 53935499625.4118\n",
            "Epoch 31/1000\n",
            " - 7s - loss: 50842938614.2785 - val_loss: 53076098108.2353\n",
            "Epoch 32/1000\n",
            " - 7s - loss: 49584710513.4177 - val_loss: 51066053089.8824\n",
            "Epoch 33/1000\n",
            " - 7s - loss: 48906142214.4810 - val_loss: 50379384229.6471\n",
            "Epoch 34/1000\n",
            " - 7s - loss: 47439026824.1013 - val_loss: 49186545182.1176\n",
            "Epoch 35/1000\n",
            " - 7s - loss: 46109540507.5443 - val_loss: 47220424583.5294\n",
            "Epoch 36/1000\n",
            " - 7s - loss: 44358778102.2785 - val_loss: 45764592097.8824\n",
            "Epoch 37/1000\n",
            " - 7s - loss: 42389786986.9367 - val_loss: 43333489242.3529\n",
            "Epoch 38/1000\n",
            " - 7s - loss: 40063774460.7595 - val_loss: 41108203158.5882\n",
            "Epoch 39/1000\n",
            " - 7s - loss: 37430962824.1013 - val_loss: 38504331023.0588\n",
            "Epoch 40/1000\n",
            " - 7s - loss: 34744866945.6203 - val_loss: 36039928771.7647\n",
            "Epoch 41/1000\n",
            " - 7s - loss: 32154788617.7215 - val_loss: 33650999476.7059\n",
            "Epoch 42/1000\n",
            " - 7s - loss: 29289314952.1013 - val_loss: 31553264579.7647\n",
            "Epoch 43/1000\n",
            " - 7s - loss: 26979339562.1266 - val_loss: 29883605353.4118\n",
            "Epoch 44/1000\n",
            " - 7s - loss: 24675613527.4937 - val_loss: 28698042006.5882\n",
            "Epoch 45/1000\n",
            " - 7s - loss: 22924631182.5823 - val_loss: 27963950170.3529\n",
            "Epoch 46/1000\n",
            " - 7s - loss: 21799784966.4810 - val_loss: 27143219290.3529\n",
            "Epoch 47/1000\n",
            " - 7s - loss: 20351407713.2152 - val_loss: 26356430787.7647\n",
            "Epoch 48/1000\n",
            " - 7s - loss: 19263333725.9747 - val_loss: 25678414064.9412\n",
            "Epoch 49/1000\n",
            " - 7s - loss: 18235727638.6835 - val_loss: 25075291316.7059\n",
            "Epoch 50/1000\n",
            " - 7s - loss: 17366462749.1646 - val_loss: 24377020476.2353\n",
            "Epoch 51/1000\n",
            " - 7s - loss: 16560629721.1139 - val_loss: 23801292980.7059\n",
            "Epoch 52/1000\n",
            " - 7s - loss: 15719931048.5063 - val_loss: 23346183378.8235\n",
            "Epoch 53/1000\n",
            " - 7s - loss: 15271657199.7975 - val_loss: 23029697807.0588\n",
            "Epoch 54/1000\n",
            " - 7s - loss: 14434988394.9367 - val_loss: 22531391472.9412\n",
            "Epoch 55/1000\n",
            " - 7s - loss: 14053563327.1899 - val_loss: 22195141692.2353\n",
            "Epoch 56/1000\n",
            " - 7s - loss: 13378824749.3671 - val_loss: 22171437191.5294\n",
            "Epoch 57/1000\n",
            " - 7s - loss: 12972784951.0886 - val_loss: 21804225445.6471\n",
            "Epoch 58/1000\n",
            " - 7s - loss: 12577587251.8481 - val_loss: 21564861936.9412\n",
            "Epoch 59/1000\n",
            " - 7s - loss: 12254928857.1139 - val_loss: 21698048391.5294\n",
            "Epoch 60/1000\n",
            " - 7s - loss: 12016759866.3291 - val_loss: 21293432711.5294\n",
            "Epoch 61/1000\n",
            " - 7s - loss: 11559410441.7215 - val_loss: 21271151826.8235\n",
            "Epoch 62/1000\n",
            " - 7s - loss: 11250999334.8861 - val_loss: 21057569475.7647\n",
            "Epoch 63/1000\n",
            " - 7s - loss: 10895825103.3924 - val_loss: 21062497641.4118\n",
            "Epoch 64/1000\n",
            " - 7s - loss: 10736994984.5063 - val_loss: 20982299226.3529\n",
            "Epoch 65/1000\n",
            " - 7s - loss: 10432894768.6076 - val_loss: 20938451546.3529\n",
            "Epoch 66/1000\n",
            " - 7s - loss: 10205537020.7595 - val_loss: 20898257558.5882\n",
            "Epoch 67/1000\n",
            " - 7s - loss: 10034360566.2785 - val_loss: 20901152240.9412\n",
            "Epoch 68/1000\n",
            " - 7s - loss: 9893318759.6962 - val_loss: 20889262968.4706\n",
            "Epoch 69/1000\n",
            " - 7s - loss: 9686244779.7468 - val_loss: 20886171783.5294\n",
            "Epoch 70/1000\n",
            " - 7s - loss: 9441180153.5190 - val_loss: 20738110147.7647\n",
            "Epoch 71/1000\n",
            " - 7s - loss: 9488018691.2405 - val_loss: 20809671529.4118\n",
            "Epoch 72/1000\n",
            " - 7s - loss: 9167694705.4177 - val_loss: 20741158174.1176\n",
            "Epoch 73/1000\n",
            " - 7s - loss: 9102470675.4430 - val_loss: 20588632259.7647\n",
            "Epoch 74/1000\n",
            " - 7s - loss: 8943108828.3544 - val_loss: 20644817076.7059\n",
            "Epoch 75/1000\n",
            " - 7s - loss: 8767246310.0760 - val_loss: 20571542618.3529\n",
            "Epoch 76/1000\n",
            " - 7s - loss: 8782070323.8481 - val_loss: 20629704131.7647\n",
            "Epoch 77/1000\n",
            " - 7s - loss: 8594966748.3544 - val_loss: 20597820867.7647\n",
            "Epoch 78/1000\n",
            " - 7s - loss: 8414283257.5190 - val_loss: 20538169012.7059\n",
            "Epoch 79/1000\n",
            " - 7s - loss: 8351259421.1646 - val_loss: 20476319984.9412\n",
            "Epoch 80/1000\n",
            " - 7s - loss: 8236220960.4051 - val_loss: 20463267493.6471\n",
            "Epoch 81/1000\n",
            " - 7s - loss: 8121489524.6582 - val_loss: 20396267851.2941\n",
            "Epoch 82/1000\n",
            " - 7s - loss: 8016846225.8228 - val_loss: 20350635821.1765\n",
            "Epoch 83/1000\n",
            " - 7s - loss: 8038670096.2025 - val_loss: 20423552195.7647\n",
            "Epoch 84/1000\n",
            " - 7s - loss: 7886790318.9873 - val_loss: 20316029967.0588\n",
            "Epoch 85/1000\n",
            " - 7s - loss: 7753870802.6329 - val_loss: 20149472918.5882\n",
            "Epoch 86/1000\n",
            " - 7s - loss: 7656457228.9620 - val_loss: 20196670403.7647\n",
            "Epoch 87/1000\n",
            " - 7s - loss: 7545846421.0633 - val_loss: 20118963621.6471\n",
            "Epoch 88/1000\n",
            " - 7s - loss: 7467608796.3544 - val_loss: 20120748303.0588\n",
            "Epoch 89/1000\n",
            " - 7s - loss: 7343549945.5190 - val_loss: 20108715776.0000\n",
            "Epoch 90/1000\n",
            " - 7s - loss: 7334968365.3671 - val_loss: 19927609780.7059\n",
            "Epoch 91/1000\n",
            " - 7s - loss: 7242969334.2785 - val_loss: 19954258913.8824\n",
            "Epoch 92/1000\n",
            " - 7s - loss: 7237361806.5823 - val_loss: 19781787919.0588\n",
            "Epoch 93/1000\n",
            " - 7s - loss: 7367592350.7848 - val_loss: 19788744131.7647\n",
            "Epoch 94/1000\n",
            " - 7s - loss: 6928564619.3418 - val_loss: 19610435945.4118\n",
            "Epoch 95/1000\n",
            " - 7s - loss: 6778663171.2405 - val_loss: 19503666808.4706\n",
            "Epoch 96/1000\n",
            " - 7s - loss: 6695765400.3038 - val_loss: 19490726881.8824\n",
            "Epoch 97/1000\n",
            " - 7s - loss: 6595570065.8228 - val_loss: 19383387693.1765\n",
            "Epoch 98/1000\n",
            " - 7s - loss: 6513225031.2911 - val_loss: 19355511175.5294\n",
            "Epoch 99/1000\n",
            " - 7s - loss: 6424377830.0759 - val_loss: 19418206539.2941\n",
            "Epoch 100/1000\n",
            " - 7s - loss: 6403683950.1772 - val_loss: 19594302554.3529\n",
            "Epoch 101/1000\n",
            " - 7s - loss: 6452526041.1139 - val_loss: 19487628513.8824\n",
            "Epoch 102/1000\n",
            " - 7s - loss: 6499733413.2658 - val_loss: 19740407777.8824\n",
            "Epoch 103/1000\n",
            " - 7s - loss: 6333270502.0759 - val_loss: 19240724781.1765\n",
            "Epoch 104/1000\n",
            " - 7s - loss: 5966634223.7975 - val_loss: 19366888990.1176\n",
            "Epoch 105/1000\n",
            " - 7s - loss: 5854292181.8734 - val_loss: 19184718667.2941\n",
            "Epoch 106/1000\n",
            " - 7s - loss: 5874814139.9494 - val_loss: 19226344643.7647\n",
            "Epoch 107/1000\n",
            " - 7s - loss: 5831024452.0506 - val_loss: 19476669199.0588\n",
            "Epoch 108/1000\n",
            " - 7s - loss: 5856415996.7595 - val_loss: 19390235708.2353\n",
            "Epoch 109/1000\n",
            " - 7s - loss: 5749060604.7595 - val_loss: 19508689257.4118\n",
            "Epoch 110/1000\n",
            " - 7s - loss: 5705063294.3797 - val_loss: 19578282752.0000\n",
            "Epoch 00110: early stopping\n"
          ],
          "name": "stdout"
        },
        {
          "output_type": "execute_result",
          "data": {
            "text/plain": [
              "<keras.callbacks.History at 0x7f368ddaec18>"
            ]
          },
          "metadata": {
            "tags": []
          },
          "execution_count": 40
        }
      ]
    },
    {
      "cell_type": "markdown",
      "metadata": {
        "id": "Rny4VjltgiT2",
        "colab_type": "text"
      },
      "source": [
        "#### Predict model and print out RMSE and R2 Score. "
      ]
    },
    {
      "cell_type": "code",
      "metadata": {
        "id": "9lfxQKgW5PCh",
        "colab_type": "code",
        "outputId": "a2fe7a03-8dc6-42a3-c6fc-1e418235a572",
        "colab": {
          "base_uri": "https://localhost:8080/",
          "height": 68
        }
      },
      "source": [
        "from sklearn import metrics\n",
        "\n",
        "model_pred = model.predict([x_test_NN,img_test])\n",
        "\n",
        "score = np.sqrt(metrics.mean_squared_error(y_test_NN,model_pred)) \n",
        "\n",
        "print(\"Score (RMSE) : {}\".format(score))\n",
        "print(\"R2 score     :\",metrics.r2_score(y_test_NN,model_pred))\n",
        "print(\"MSE          :\", metrics.mean_squared_error(y_test_NN, model_pred))"
      ],
      "execution_count": 0,
      "outputs": [
        {
          "output_type": "stream",
          "text": [
            "Score (RMSE) : 139922.42029878148\n",
            "R2 score     : 0.6648726642389936\n",
            "MSE          : 19578283702.268852\n"
          ],
          "name": "stdout"
        }
      ]
    },
    {
      "cell_type": "code",
      "metadata": {
        "id": "N6ISC_A1KAS8",
        "colab_type": "code",
        "colab": {}
      },
      "source": [
        "model_pred = np.asarray(model_pred)\n",
        "y_test_NN = np.asarray(y_test_NN)"
      ],
      "execution_count": 0,
      "outputs": []
    },
    {
      "cell_type": "markdown",
      "metadata": {
        "id": "PNboAqs-g_ys",
        "colab_type": "text"
      },
      "source": [
        "#### Regression Chart."
      ]
    },
    {
      "cell_type": "code",
      "metadata": {
        "id": "BO2uI5Sxk49f",
        "colab_type": "code",
        "outputId": "57066b76-5231-4756-d4eb-b5b9e9b0c0b8",
        "colab": {
          "base_uri": "https://localhost:8080/",
          "height": 269
        }
      },
      "source": [
        "chart_regression(model_pred.flatten(),y_test_NN)"
      ],
      "execution_count": 0,
      "outputs": [
        {
          "output_type": "display_data",
          "data": {
            "image/png": "[encoded data removed]",
            "text/plain": [
              "<Figure size 432x288 with 1 Axes>"
            ]
          },
          "metadata": {
            "tags": []
          }
        }
      ]
    }
  ]
}